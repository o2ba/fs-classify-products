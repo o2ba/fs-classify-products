{
 "cells": [
  {
   "cell_type": "code",
   "execution_count": 1,
   "id": "276014e8",
   "metadata": {},
   "outputs": [],
   "source": [
    "def plot_grid_search_2d(cv_results, grid_param_1, grid_param_2, name_param_1, name_param_2):\n",
    "# Get Test Scores Mean and std for each grid search\n",
    "    scores_mean = cv_results['mean_test_score']\n",
    "    scores_mean = np.array(scores_mean).reshape(len(grid_param_1),len(grid_param_2))\n",
    "    # Plot Grid search scores\n",
    "    _, ax = plt.subplots(1,1)\n",
    "    # Param1 is the X-axis, Param 2 is represented as a different curve (color line)\n",
    "    for idx, val in enumerate(grid_param_1):\n",
    "        ax.plot(grid_param_2, scores_mean[idx,:], '-o', label= name_param_1 + ': ' + str(val))\n",
    "        ax.set_title(\"Grid Search Scores\", fontsize=12, fontweight='bold')\n",
    "        ax.set_xlabel(name_param_2, fontsize=10)\n",
    "        ax.set_ylabel('CV Average Validation Accuracy', fontsize=10)\n",
    "        ax.legend(loc=\"best\", fontsize=8)\n",
    "        ax.grid('on')"
   ]
  },
  {
   "cell_type": "code",
   "execution_count": 2,
   "id": "9d87a9ce",
   "metadata": {},
   "outputs": [],
   "source": [
    "### Function to visualize the results of Grid Search with 3 hyperparameters ###\n",
    "def plot_grid_search_3d(cv_results, grid_param_1, grid_param_2, grid_param_3, name_param_1, name_param_2, name_param_3):\n",
    "    \"\"\"\n",
    "    Plots a grid search result for 3 hyperparameters as a series of 2D plots (one for each value of grid_param_3).\n",
    "    \"\"\"\n",
    "    import numpy as np\n",
    "    import matplotlib.pyplot as plt\n",
    "\n",
    "    scores_mean = np.array(cv_results['mean_test_score'])\n",
    "    # Reshape to (len(grid_param_1), len(grid_param_2), len(grid_param_3))\n",
    "    scores_mean = scores_mean.reshape(len(grid_param_1), len(grid_param_2), len(grid_param_3))\n",
    "\n",
    "    for idx3, val3 in enumerate(grid_param_3):\n",
    "        _, ax = plt.subplots(1, 1, figsize=(7, 5))\n",
    "        for idx1, val1 in enumerate(grid_param_1):\n",
    "            ax.plot(grid_param_2, scores_mean[idx1, :, idx3], '-o', label=f\"{name_param_1}: {val1}\")\n",
    "        ax.set_title(f\"Grid Search Scores ({name_param_3}: {val3})\", fontsize=12, fontweight='bold')\n",
    "        ax.set_xlabel(name_param_2, fontsize=10)\n",
    "        ax.set_ylabel('CV Average Validation Accuracy', fontsize=10)\n",
    "        ax.legend(loc=\"best\", fontsize=8)\n",
    "        ax.grid(True)\n",
    "        plt.show()"
   ]
  },
  {
   "cell_type": "code",
   "execution_count": 3,
   "id": "d01e14f0",
   "metadata": {},
   "outputs": [
    {
     "ename": "NameError",
     "evalue": "name 'plot_grid_search_2d' is not defined",
     "output_type": "error",
     "traceback": [
      "\u001b[31m---------------------------------------------------------------------------\u001b[39m",
      "\u001b[31mNameError\u001b[39m                                 Traceback (most recent call last)",
      "\u001b[36mCell\u001b[39m\u001b[36m \u001b[39m\u001b[32mIn[3]\u001b[39m\u001b[32m, line 31\u001b[39m\n\u001b[32m     29\u001b[39m \u001b[38;5;66;03m# Plot aufrufen\u001b[39;00m\n\u001b[32m     30\u001b[39m \u001b[38;5;28;01mimport\u001b[39;00m\u001b[38;5;250m \u001b[39m\u001b[34;01mmatplotlib\u001b[39;00m\u001b[34;01m.\u001b[39;00m\u001b[34;01mpyplot\u001b[39;00m\u001b[38;5;250m \u001b[39m\u001b[38;5;28;01mas\u001b[39;00m\u001b[38;5;250m \u001b[39m\u001b[34;01mplt\u001b[39;00m\n\u001b[32m---> \u001b[39m\u001b[32m31\u001b[39m \u001b[43mplot_grid_search_2d\u001b[49m(grid.cv_results_, param_grid[\u001b[33m'\u001b[39m\u001b[33mmax_depth\u001b[39m\u001b[33m'\u001b[39m], param_grid[\u001b[33m'\u001b[39m\u001b[33mn_estimators\u001b[39m\u001b[33m'\u001b[39m],\u001b[33m'\u001b[39m\u001b[33mmax_depth\u001b[39m\u001b[33m'\u001b[39m, \u001b[33m'\u001b[39m\u001b[33mn_estimators\u001b[39m\u001b[33m'\u001b[39m)\n\u001b[32m     33\u001b[39m plt.show()\n",
      "\u001b[31mNameError\u001b[39m: name 'plot_grid_search_2d' is not defined"
     ]
    }
   ],
   "source": [
    "from sklearn.ensemble import RandomForestClassifier\n",
    "from sklearn.model_selection import GridSearchCV\n",
    "import pandas as pd\n",
    "import numpy as np\n",
    "\n",
    "balanced_data = pd.read_csv(\"balanced_data.csv\")\n",
    "# Features und Ziel\n",
    "X = balanced_data.drop(columns='target')\n",
    "Y = balanced_data['target']\n",
    "from sklearn.model_selection import train_test_split\n",
    "X_train, X_test, Y_train, Y_test = train_test_split(X, Y, test_size = 0.2, random_state=22)\n",
    "\n",
    "# Klassifikationsmodell\n",
    "RForClassCV = RandomForestClassifier(random_state=0)\n",
    "#gini und anderes ausporbieren\n",
    "# Grid definieren\n",
    "param_grid = {\n",
    "    'max_depth': [50],\n",
    "    'n_estimators': [300],\n",
    "    'criterion': ['gini'],\n",
    "    'min_samples_leaf': [1]\n",
    "}\n",
    "\n",
    "# GridSearchCV Setup\n",
    "model = RandomForestClassifier(random_state=0)\n",
    "grid = GridSearchCV(model, param_grid, cv=3, scoring='accuracy', return_train_score=True)\n",
    "grid.fit(X_train, Y_train)\n",
    "\n",
    "# Plot aufrufen\n",
    "import matplotlib.pyplot as plt\n",
    "plot_grid_search_2d(grid.cv_results_, param_grid['max_depth'], param_grid['n_estimators'],'max_depth', 'n_estimators')\n",
    "\n",
    "plt.show()"
   ]
  },
  {
   "cell_type": "code",
   "execution_count": 4,
   "id": "3a9ef631",
   "metadata": {},
   "outputs": [
    {
     "name": "stdout",
     "output_type": "stream",
     "text": [
      "Train Accuracy: 0.9997\n",
      "Test Accuracy: 0.8673\n"
     ]
    },
    {
     "data": {
      "image/png": "[encoded data removed]",
      "text/plain": [
       "<Figure size 800x400 with 1 Axes>"
      ]
     },
     "metadata": {},
     "output_type": "display_data"
    }
   ],
   "source": [
    "# Klassifikationsmodell mit besten Parametern aus CV\n",
    "final_rf_clf = RandomForestClassifier(random_state=0)\n",
    "final_rf_clf.set_params(**grid.best_params_)\n",
    "\n",
    "# Modell trainieren\n",
    "final_rf_clf.fit(X_train, Y_train)\n",
    "\n",
    "# Accuracy auf Trainings- und Testdaten berechnen\n",
    "train_acc = final_rf_clf.score(X_train, Y_train)\n",
    "test_acc = final_rf_clf.score(X_test, Y_test)\n",
    "\n",
    "print(f\"Train Accuracy: {train_acc:.4f}\")\n",
    "print(f\"Test Accuracy: {test_acc:.4f}\")\n",
    "\n",
    "# View a list of the features and their importance scores\n",
    "import matplotlib.pyplot as plt\n",
    "\n",
    "feature_importances = list(zip(X_train.columns, final_rf_clf.feature_importances_))\n",
    "# Sort by importance descending and take top 5\n",
    "top_features = sorted(feature_importances, key=lambda x: x[1], reverse=True)[:5]\n",
    "\n",
    "# Unzip for plotting\n",
    "features, importances = zip(*top_features)\n",
    "\n",
    "plt.figure(figsize=(8, 4))\n",
    "plt.bar(features, importances)\n",
    "plt.ylabel(\"Feature Importance\")\n",
    "plt.title(\"Top 5 Feature Importances\")\n",
    "plt.show()\n",
    "\n"
   ]
  }
 ],
 "metadata": {
  "kernelspec": {
   "display_name": "Python 3",
   "language": "python",
   "name": "python3"
  },
  "language_info": {
   "codemirror_mode": {
    "name": "ipython",
    "version": 3
   },
   "file_extension": ".py",
   "mimetype": "text/x-python",
   "name": "python",
   "nbconvert_exporter": "python",
   "pygments_lexer": "ipython3",
   "version": "3.11.4"
  }
 },
 "nbformat": 4,
 "nbformat_minor": 5
}
