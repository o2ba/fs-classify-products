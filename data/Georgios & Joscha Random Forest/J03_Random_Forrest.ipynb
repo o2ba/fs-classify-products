{
 "cells": [
  {
   "cell_type": "code",
   "execution_count": 36,
   "id": "40156b22",
   "metadata": {},
   "outputs": [],
   "source": [
    "### Function to visualize the results of Grid Search with 2 hyperparameters ###\n",
    "def plot_grid_search_2d(cv_results, grid_param_1, grid_param_2, name_param_1, name_param_2):\n",
    "    # Get Test Scores Mean and std for each grid search\n",
    "    scores_mean = cv_results['mean_test_score']\n",
    "    scores_mean = np.array(scores_mean).reshape(len(grid_param_1),len(grid_param_2))\n",
    "    # Plot Grid search scores\n",
    "    _, ax = plt.subplots(1,1)\n",
    "    # Param1 is the X-axis, Param 2 is represented as a different curve (color line)\n",
    "    for idx, val in enumerate(grid_param_1):\n",
    "        ax.plot(grid_param_2, scores_mean[idx,:], '-o', label= name_param_1 + ': ' + str(val))\n",
    "    ax.set_title(\"Grid Search Scores\", fontsize=12, fontweight='bold')\n",
    "    ax.set_xlabel(name_param_2, fontsize=10)\n",
    "    ax.set_ylabel('CV Average Validation Accuracy', fontsize=10)\n",
    "    ax.legend(loc=\"best\", fontsize=8)\n",
    "    ax.grid('on')"
   ]
  },
  {
   "cell_type": "code",
   "execution_count": null,
   "id": "d01e14f0",
   "metadata": {},
   "outputs": [
    {
     "name": "stdout",
     "output_type": "stream",
     "text": [
      "                                   params  mean_test_score  std_test_score\n",
      "0  {'max_depth': 60, 'n_estimators': 250}         0.845455        0.001102\n"
     ]
    }
   ],
   "source": [
    "from sklearn.ensemble import RandomForestClassifier\n",
    "from sklearn.model_selection import GridSearchCV\n",
    "\n",
    "data_path = r\"C:\\Users\\ferijoni\\OneDrive - FERI AG\\Dokumente\\6.Sem\\BD\\fs-classify-products\\data\\balanced_data.csv\"\n",
    "balanced_data = pd.read_csv(data_path)\n",
    "# Features und Ziel\n",
    "X = balanced_data.drop(columns='target')\n",
    "Y = balanced_data['target']\n",
    "from sklearn.model_selection import train_test_split\n",
    "X_train, X_test, Y_train, Y_test = train_test_split(X, Y, test_size = 0.2, random_state=1)\n",
    "\n",
    "# Klassifikationsmodell\n",
    "RForClassCV = RandomForestClassifier(random_state=0)\n",
    "\n",
    "# Grid definieren\n",
    "param_grid = {\n",
    "    'max_depth': [60],\n",
    "    'n_estimators': [250]}\n",
    "\n",
    "# GridSearchCV Setup\n",
    "model = RandomForestClassifier(random_state=0)\n",
    "grid = GridSearchCV(model, param_grid, cv=3, scoring='accuracy', return_train_score=True)\n",
    "grid.fit(X_train, Y_train)\n",
    "\n",
    "# Plot aufrufen\n",
    "import matplotlib.pyplot as plt\n",
    "plot_grid_search_2d(grid.cv_results_, param_grid['max_depth'], param_grid['n_estimators'],'max_depth', 'n_estimators')\n",
    "\n",
    "plt.show()"
   ]
  },
  {
   "cell_type": "code",
   "execution_count": null,
   "id": "3a9ef631",
   "metadata": {},
   "outputs": [
    {
     "name": "stdout",
     "output_type": "stream",
     "text": [
      "Trainings-Accuracy: 0.8421\n"
     ]
    }
   ],
   "source": [
    "# Klassifikationsmodell mit besten Parametern aus CV\n",
    "final_rf_clf = RandomForestClassifier(random_state=0)\n",
    "final_rf_clf.set_params(**CV_rfmodel.best_params_)\n",
    "\n",
    "# Modell trainieren\n",
    "final_rf_clf.fit(X_train, Y_train)\n",
    "\n",
    "# Accuracy berechnen\n",
    "train_acc = final_rf_clf.score(X_test, Y_test)\n",
    "\n",
    "\n",
    "print(f\"Test: {train_acc:.4f}\")\n",
    "\n"
   ]
  }
 ],
 "metadata": {
  "kernelspec": {
   "display_name": "Python 3",
   "language": "python",
   "name": "python3"
  },
  "language_info": {
   "codemirror_mode": {
    "name": "ipython",
    "version": 3
   },
   "file_extension": ".py",
   "mimetype": "text/x-python",
   "name": "python",
   "nbconvert_exporter": "python",
   "pygments_lexer": "ipython3",
   "version": "3.11.4"
  }
 },
 "nbformat": 4,
 "nbformat_minor": 5
}
